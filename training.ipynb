{
 "cells": [
  {
   "cell_type": "markdown",
   "metadata": {},
   "source": [
    "# 訓練 😉"
   ]
  },
  {
   "cell_type": "markdown",
   "metadata": {},
   "source": [
    "### 載入函式庫"
   ]
  },
  {
   "cell_type": "code",
   "execution_count": 1,
   "metadata": {},
   "outputs": [
    {
     "name": "stderr",
     "output_type": "stream",
     "text": [
      "/Users/qoo/Documents/Data Mining/Classification/myvenv/lib/python3.7/site-packages/lightgbm/__init__.py:46: UserWarning: Starting from version 2.2.1, the library file in distribution wheels for macOS is built by the Apple Clang (Xcode_8.3.1) compiler.\n",
      "This means that in case of installing LightGBM from PyPI via the ``pip install lightgbm`` command, you don't need to install the gcc compiler anymore.\n",
      "Instead of that, you need to install the OpenMP library, which is required for running LightGBM on the system with the Apple Clang compiler.\n",
      "You can install the OpenMP library by the following command: ``brew install libomp``.\n",
      "  \"You can install the OpenMP library by the following command: ``brew install libomp``.\", UserWarning)\n"
     ]
    }
   ],
   "source": [
    "from sklearn.preprocessing import OneHotEncoder\n",
    "from sklearn.model_selection import train_test_split \n",
    "from sklearn import tree\n",
    "from sklearn import svm\n",
    "from sklearn.metrics import accuracy_score\n",
    "import graphviz\n",
    "from collections import defaultdict\n",
    "import pandas as pd\n",
    "import data_generator\n",
    "import os\n",
    "import lightgbm as lgb\n",
    "import numpy as np"
   ]
  },
  {
   "cell_type": "markdown",
   "metadata": {},
   "source": [
    "### 讀入資料"
   ]
  },
  {
   "cell_type": "code",
   "execution_count": 2,
   "metadata": {
    "scrolled": true
   },
   "outputs": [
    {
     "data": {
      "text/html": [
       "<div>\n",
       "<style scoped>\n",
       "    .dataframe tbody tr th:only-of-type {\n",
       "        vertical-align: middle;\n",
       "    }\n",
       "\n",
       "    .dataframe tbody tr th {\n",
       "        vertical-align: top;\n",
       "    }\n",
       "\n",
       "    .dataframe thead th {\n",
       "        text-align: right;\n",
       "    }\n",
       "</style>\n",
       "<table border=\"1\" class=\"dataframe\">\n",
       "  <thead>\n",
       "    <tr style=\"text-align: right;\">\n",
       "      <th></th>\n",
       "      <th>Avg sleep time</th>\n",
       "      <th>Avg study time</th>\n",
       "      <th>Avg video game time</th>\n",
       "      <th>BMI</th>\n",
       "      <th>In a relationship</th>\n",
       "      <th>Family financial status</th>\n",
       "      <th>GPA</th>\n",
       "      <th>Laptop brand</th>\n",
       "      <th>TOEIC grade</th>\n",
       "      <th>IQ</th>\n",
       "      <th>Grade</th>\n",
       "    </tr>\n",
       "  </thead>\n",
       "  <tbody>\n",
       "    <tr>\n",
       "      <th>0</th>\n",
       "      <td>7</td>\n",
       "      <td>3</td>\n",
       "      <td>13</td>\n",
       "      <td>33.0</td>\n",
       "      <td>Yes</td>\n",
       "      <td>high</td>\n",
       "      <td>2.6</td>\n",
       "      <td>Apple</td>\n",
       "      <td>700</td>\n",
       "      <td>142</td>\n",
       "      <td>80+</td>\n",
       "    </tr>\n",
       "    <tr>\n",
       "      <th>1</th>\n",
       "      <td>7</td>\n",
       "      <td>3</td>\n",
       "      <td>12</td>\n",
       "      <td>24.0</td>\n",
       "      <td>No</td>\n",
       "      <td>average</td>\n",
       "      <td>2.6</td>\n",
       "      <td>Leveno</td>\n",
       "      <td>910</td>\n",
       "      <td>115</td>\n",
       "      <td>60-</td>\n",
       "    </tr>\n",
       "    <tr>\n",
       "      <th>2</th>\n",
       "      <td>8</td>\n",
       "      <td>3</td>\n",
       "      <td>11</td>\n",
       "      <td>31.0</td>\n",
       "      <td>Yes</td>\n",
       "      <td>high</td>\n",
       "      <td>3.2</td>\n",
       "      <td>Acer</td>\n",
       "      <td>545</td>\n",
       "      <td>128</td>\n",
       "      <td>60-</td>\n",
       "    </tr>\n",
       "    <tr>\n",
       "      <th>3</th>\n",
       "      <td>6</td>\n",
       "      <td>4</td>\n",
       "      <td>8</td>\n",
       "      <td>32.0</td>\n",
       "      <td>No</td>\n",
       "      <td>low</td>\n",
       "      <td>4.2</td>\n",
       "      <td>Asus</td>\n",
       "      <td>455</td>\n",
       "      <td>115</td>\n",
       "      <td>80+</td>\n",
       "    </tr>\n",
       "    <tr>\n",
       "      <th>4</th>\n",
       "      <td>7</td>\n",
       "      <td>4</td>\n",
       "      <td>10</td>\n",
       "      <td>32.0</td>\n",
       "      <td>Yes</td>\n",
       "      <td>average</td>\n",
       "      <td>2.9</td>\n",
       "      <td>Asus</td>\n",
       "      <td>945</td>\n",
       "      <td>148</td>\n",
       "      <td>60-</td>\n",
       "    </tr>\n",
       "  </tbody>\n",
       "</table>\n",
       "</div>"
      ],
      "text/plain": [
       "   Avg sleep time  Avg study time  Avg video game time   BMI  \\\n",
       "0               7               3                   13  33.0   \n",
       "1               7               3                   12  24.0   \n",
       "2               8               3                   11  31.0   \n",
       "3               6               4                    8  32.0   \n",
       "4               7               4                   10  32.0   \n",
       "\n",
       "  In a relationship Family financial status  GPA Laptop brand  TOEIC grade  \\\n",
       "0               Yes                    high  2.6        Apple          700   \n",
       "1                No                 average  2.6       Leveno          910   \n",
       "2               Yes                    high  3.2         Acer          545   \n",
       "3                No                     low  4.2         Asus          455   \n",
       "4               Yes                 average  2.9         Asus          945   \n",
       "\n",
       "    IQ Grade  \n",
       "0  142   80+  \n",
       "1  115   60-  \n",
       "2  128   60-  \n",
       "3  115   80+  \n",
       "4  148   60-  "
      ]
     },
     "execution_count": 2,
     "metadata": {},
     "output_type": "execute_result"
    }
   ],
   "source": [
    "df = pd.read_csv(\"data/student_data_30000.csv\")\n",
    "df.head()"
   ]
  },
  {
   "cell_type": "markdown",
   "metadata": {},
   "source": [
    "### 特徵"
   ]
  },
  {
   "cell_type": "code",
   "execution_count": 3,
   "metadata": {
    "scrolled": true
   },
   "outputs": [
    {
     "data": {
      "text/html": [
       "<div>\n",
       "<style scoped>\n",
       "    .dataframe tbody tr th:only-of-type {\n",
       "        vertical-align: middle;\n",
       "    }\n",
       "\n",
       "    .dataframe tbody tr th {\n",
       "        vertical-align: top;\n",
       "    }\n",
       "\n",
       "    .dataframe thead th {\n",
       "        text-align: right;\n",
       "    }\n",
       "</style>\n",
       "<table border=\"1\" class=\"dataframe\">\n",
       "  <thead>\n",
       "    <tr style=\"text-align: right;\">\n",
       "      <th></th>\n",
       "      <th>Avg sleep time</th>\n",
       "      <th>Avg study time</th>\n",
       "      <th>Avg video game time</th>\n",
       "      <th>BMI</th>\n",
       "      <th>In a relationship</th>\n",
       "      <th>Family financial status</th>\n",
       "      <th>GPA</th>\n",
       "      <th>Laptop brand</th>\n",
       "      <th>TOEIC grade</th>\n",
       "      <th>IQ</th>\n",
       "    </tr>\n",
       "  </thead>\n",
       "  <tbody>\n",
       "    <tr>\n",
       "      <th>0</th>\n",
       "      <td>7</td>\n",
       "      <td>3</td>\n",
       "      <td>13</td>\n",
       "      <td>33.0</td>\n",
       "      <td>1</td>\n",
       "      <td>2</td>\n",
       "      <td>2.6</td>\n",
       "      <td>5</td>\n",
       "      <td>700</td>\n",
       "      <td>142</td>\n",
       "    </tr>\n",
       "    <tr>\n",
       "      <th>1</th>\n",
       "      <td>7</td>\n",
       "      <td>3</td>\n",
       "      <td>12</td>\n",
       "      <td>24.0</td>\n",
       "      <td>0</td>\n",
       "      <td>1</td>\n",
       "      <td>2.6</td>\n",
       "      <td>0</td>\n",
       "      <td>910</td>\n",
       "      <td>115</td>\n",
       "    </tr>\n",
       "    <tr>\n",
       "      <th>2</th>\n",
       "      <td>8</td>\n",
       "      <td>3</td>\n",
       "      <td>11</td>\n",
       "      <td>31.0</td>\n",
       "      <td>1</td>\n",
       "      <td>2</td>\n",
       "      <td>3.2</td>\n",
       "      <td>3</td>\n",
       "      <td>545</td>\n",
       "      <td>128</td>\n",
       "    </tr>\n",
       "    <tr>\n",
       "      <th>3</th>\n",
       "      <td>6</td>\n",
       "      <td>4</td>\n",
       "      <td>8</td>\n",
       "      <td>32.0</td>\n",
       "      <td>0</td>\n",
       "      <td>0</td>\n",
       "      <td>4.2</td>\n",
       "      <td>4</td>\n",
       "      <td>455</td>\n",
       "      <td>115</td>\n",
       "    </tr>\n",
       "    <tr>\n",
       "      <th>4</th>\n",
       "      <td>7</td>\n",
       "      <td>4</td>\n",
       "      <td>10</td>\n",
       "      <td>32.0</td>\n",
       "      <td>1</td>\n",
       "      <td>1</td>\n",
       "      <td>2.9</td>\n",
       "      <td>4</td>\n",
       "      <td>945</td>\n",
       "      <td>148</td>\n",
       "    </tr>\n",
       "  </tbody>\n",
       "</table>\n",
       "</div>"
      ],
      "text/plain": [
       "   Avg sleep time  Avg study time  Avg video game time   BMI  \\\n",
       "0               7               3                   13  33.0   \n",
       "1               7               3                   12  24.0   \n",
       "2               8               3                   11  31.0   \n",
       "3               6               4                    8  32.0   \n",
       "4               7               4                   10  32.0   \n",
       "\n",
       "   In a relationship  Family financial status  GPA  Laptop brand  TOEIC grade  \\\n",
       "0                  1                        2  2.6             5          700   \n",
       "1                  0                        1  2.6             0          910   \n",
       "2                  1                        2  3.2             3          545   \n",
       "3                  0                        0  4.2             4          455   \n",
       "4                  1                        1  2.9             4          945   \n",
       "\n",
       "    IQ  \n",
       "0  142  \n",
       "1  115  \n",
       "2  128  \n",
       "3  115  \n",
       "4  148  "
      ]
     },
     "execution_count": 3,
     "metadata": {},
     "output_type": "execute_result"
    }
   ],
   "source": [
    "features = df.drop(\"Grade\", axis=1)\n",
    "features[\"In a relationship\"] = features[\"In a relationship\"].map({\"Yes\":1, \"No\":0})\n",
    "features[\"Family financial status\"] = features[\"Family financial status\"].map({\"low\":0, \"average\":1, \"high\":2})\n",
    "features[\"Laptop brand\"] = features[\"Laptop brand\"].map({\"Leveno\":0, \"HP\":1, \"Dell\":2, \"Acer\":3, \"Asus\":4, \"Apple\":5})\n",
    "features.head()"
   ]
  },
  {
   "cell_type": "markdown",
   "metadata": {},
   "source": [
    "### 類別"
   ]
  },
  {
   "cell_type": "code",
   "execution_count": 4,
   "metadata": {
    "scrolled": false
   },
   "outputs": [
    {
     "data": {
      "text/plain": [
       "2    10000\n",
       "1    10000\n",
       "0    10000\n",
       "Name: Grade, dtype: int64"
      ]
     },
     "execution_count": 4,
     "metadata": {},
     "output_type": "execute_result"
    }
   ],
   "source": [
    "label = df[\"Grade\"]\n",
    "label = label.map({\"60-\":0, \"60~80\":1, \"80+\":2})\n",
    "label.value_counts()"
   ]
  },
  {
   "cell_type": "markdown",
   "metadata": {},
   "source": [
    "### 將資料分成訓練集(0.8)與測試集(0.2)"
   ]
  },
  {
   "cell_type": "code",
   "execution_count": 5,
   "metadata": {},
   "outputs": [],
   "source": [
    "X_train, X_test, y_train, y_test = train_test_split(features, label, test_size=0.20)"
   ]
  },
  {
   "cell_type": "markdown",
   "metadata": {},
   "source": [
    "### Decision Tree 🌲"
   ]
  },
  {
   "cell_type": "code",
   "execution_count": 6,
   "metadata": {},
   "outputs": [
    {
     "data": {
      "text/plain": [
       "DecisionTreeClassifier(class_weight=None, criterion='gini', max_depth=8,\n",
       "            max_features=None, max_leaf_nodes=None,\n",
       "            min_impurity_decrease=0.0, min_impurity_split=None,\n",
       "            min_samples_leaf=1000, min_samples_split=2000,\n",
       "            min_weight_fraction_leaf=0.0, presort=False, random_state=None,\n",
       "            splitter='best')"
      ]
     },
     "execution_count": 6,
     "metadata": {},
     "output_type": "execute_result"
    }
   ],
   "source": [
    "clf = tree.DecisionTreeClassifier(min_samples_split=2000, min_samples_leaf=1000, max_depth=8)\n",
    "clf.fit(X_train, y_train)"
   ]
  },
  {
   "cell_type": "code",
   "execution_count": 7,
   "metadata": {},
   "outputs": [],
   "source": [
    "pred_label = clf.predict(X_test)"
   ]
  },
  {
   "cell_type": "code",
   "execution_count": 8,
   "metadata": {
    "scrolled": true
   },
   "outputs": [
    {
     "data": {
      "text/plain": [
       "0.7366666666666667"
      ]
     },
     "execution_count": 8,
     "metadata": {},
     "output_type": "execute_result"
    }
   ],
   "source": [
    "accuracy_score(y_test, pred_label)"
   ]
  },
  {
   "cell_type": "code",
   "execution_count": 9,
   "metadata": {
    "scrolled": false
   },
   "outputs": [],
   "source": [
    "dot_data = tree.export_graphviz(clf, out_file=None)\n",
    "graph = graphviz.Source(dot_data)\n",
    "dot_data = tree.export_graphviz(clf, out_file=\"tree.dot\", feature_names=list(features.columns), \n",
    "                                class_names=[\"60-\", \"60~80\", \"80+\"], \n",
    "                                filled=True, rounded=True, \n",
    "                                special_characters=True)\n",
    "# graph = graphviz.Source(dot_data)\n",
    "# graph"
   ]
  },
  {
   "cell_type": "markdown",
   "metadata": {},
   "source": [
    "### Support Vector Machine 🗿"
   ]
  },
  {
   "cell_type": "code",
   "execution_count": 10,
   "metadata": {
    "scrolled": true
   },
   "outputs": [
    {
     "data": {
      "text/plain": [
       "SVC(C=1.0, cache_size=200, class_weight=None, coef0=0.0,\n",
       "  decision_function_shape='ovr', degree=3, gamma='scale', kernel='rbf',\n",
       "  max_iter=-1, probability=False, random_state=None, shrinking=True,\n",
       "  tol=0.001, verbose=False)"
      ]
     },
     "execution_count": 10,
     "metadata": {},
     "output_type": "execute_result"
    }
   ],
   "source": [
    "clf = svm.SVC(gamma='scale')\n",
    "clf.fit(X_train, y_train)"
   ]
  },
  {
   "cell_type": "code",
   "execution_count": 11,
   "metadata": {},
   "outputs": [],
   "source": [
    "pred_label = clf.predict(X_test)"
   ]
  },
  {
   "cell_type": "code",
   "execution_count": 12,
   "metadata": {},
   "outputs": [
    {
     "data": {
      "text/plain": [
       "0.5665"
      ]
     },
     "execution_count": 12,
     "metadata": {},
     "output_type": "execute_result"
    }
   ],
   "source": [
    "accuracy_score(y_test, pred_label)"
   ]
  },
  {
   "cell_type": "markdown",
   "metadata": {},
   "source": [
    "### LightGBM 🍃"
   ]
  },
  {
   "cell_type": "code",
   "execution_count": 13,
   "metadata": {},
   "outputs": [],
   "source": [
    "lgb_train = lgb.Dataset(X_train, y_train)\n",
    "lgb_eval = lgb.Dataset(X_test, y_test, reference=lgb_train)"
   ]
  },
  {
   "cell_type": "code",
   "execution_count": 14,
   "metadata": {},
   "outputs": [],
   "source": [
    "params = {\n",
    "    'task': 'train',\n",
    "    'boosting_type': 'gbdt',\n",
    "    'objective': 'multiclass',\n",
    "    'metric': 'multi_logloss',\n",
    "    'num_class': 3,\n",
    "    'is_provide_training_metric': True,\n",
    "    'learning_rate': 0.01,\n",
    "    'num_threads': 6,\n",
    "    'num_leaves': 30,\n",
    "    'max_depth': 7\n",
    "}"
   ]
  },
  {
   "cell_type": "code",
   "execution_count": 15,
   "metadata": {
    "scrolled": true
   },
   "outputs": [
    {
     "name": "stdout",
     "output_type": "stream",
     "text": [
      "Training until validation scores don't improve for 300 rounds.\n",
      "[100]\tvalid_0's multi_logloss: 0.593373\n",
      "[200]\tvalid_0's multi_logloss: 0.448243\n",
      "[300]\tvalid_0's multi_logloss: 0.39713\n",
      "[400]\tvalid_0's multi_logloss: 0.378482\n",
      "[500]\tvalid_0's multi_logloss: 0.371765\n",
      "[600]\tvalid_0's multi_logloss: 0.369561\n",
      "[700]\tvalid_0's multi_logloss: 0.368604\n",
      "[800]\tvalid_0's multi_logloss: 0.368433\n",
      "[900]\tvalid_0's multi_logloss: 0.368793\n",
      "[1000]\tvalid_0's multi_logloss: 0.369133\n",
      "[1100]\tvalid_0's multi_logloss: 0.369656\n",
      "Early stopping, best iteration is:\n",
      "[819]\tvalid_0's multi_logloss: 0.368355\n"
     ]
    }
   ],
   "source": [
    "gbm = lgb.train(params, lgb_train, num_boost_round=10000, valid_sets=lgb_eval,\n",
    "                early_stopping_rounds=300, verbose_eval=100)"
   ]
  },
  {
   "cell_type": "code",
   "execution_count": 16,
   "metadata": {},
   "outputs": [],
   "source": [
    "pred = gbm.predict(X_test, num_iteration=gbm.best_iteration)"
   ]
  },
  {
   "cell_type": "code",
   "execution_count": 17,
   "metadata": {},
   "outputs": [],
   "source": [
    "acc = accuracy_score(np.argmax(pred, axis=1), y_test)"
   ]
  },
  {
   "cell_type": "code",
   "execution_count": 18,
   "metadata": {},
   "outputs": [
    {
     "data": {
      "text/plain": [
       "0.7888333333333334"
      ]
     },
     "execution_count": 18,
     "metadata": {},
     "output_type": "execute_result"
    }
   ],
   "source": [
    "acc"
   ]
  },
  {
   "cell_type": "code",
   "execution_count": 19,
   "metadata": {},
   "outputs": [],
   "source": [
    "# !jupyter nbconvert --to script training.ipynb"
   ]
  }
 ],
 "metadata": {
  "kernelspec": {
   "display_name": "Python 3",
   "language": "python",
   "name": "python3"
  },
  "language_info": {
   "codemirror_mode": {
    "name": "ipython",
    "version": 3
   },
   "file_extension": ".py",
   "mimetype": "text/x-python",
   "name": "python",
   "nbconvert_exporter": "python",
   "pygments_lexer": "ipython3",
   "version": "3.7.0"
  }
 },
 "nbformat": 4,
 "nbformat_minor": 2
}
